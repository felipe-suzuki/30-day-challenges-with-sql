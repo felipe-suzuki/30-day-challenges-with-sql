{
  "cells": [
    {
      "cell_type": "markdown",
      "id": "160bbfb2",
      "metadata": {
        "id": "160bbfb2"
      },
      "source": [
        "# Por favor tente resolver o desafio sozinho, não pegue atalhos, tu consegue, é só colocar a cabeça para funcionar."
      ]
    },
    {
      "cell_type": "markdown",
      "id": "e0e85531",
      "metadata": {
        "id": "e0e85531"
      },
      "source": [
        "Execute a célula abaixo apenas uma vez."
      ]
    },
    {
      "cell_type": "code",
      "execution_count": 1,
      "id": "7d725090",
      "metadata": {
        "id": "7d725090",
        "outputId": "2ba1ccbf-ee6a-4495-9225-7314d0f6230e",
        "colab": {
          "base_uri": "https://localhost:8080/"
        }
      },
      "outputs": [
        {
          "output_type": "stream",
          "name": "stderr",
          "text": [
            "Cloning into '30-day-challenges-with-sql'...\n"
          ]
        }
      ],
      "source": [
        "%%bash\n",
        "\n",
        "rm -rf /tmp/github; mkdir -p /tmp/github; cd /tmp/github\n",
        "git clone https://github.com/romeritomorais/30-day-challenges-with-sql.git\n",
        "sh /tmp/github/30-day-challenges-with-sql/challenges/utils/install-miniconda.sh > /dev/null 2>&1\n",
        "sh /tmp/github/30-day-challenges-with-sql/challenges/utils/update-miniconda.sh > /dev/null 2>&1"
      ]
    },
    {
      "cell_type": "markdown",
      "id": "467f1c4a",
      "metadata": {
        "id": "467f1c4a"
      },
      "source": [
        "Nesse desafio precisamos da idade das pessoas que estão na tabela `Employee`. Use a coluna `BithDate` para calcular.\n",
        "\n",
        "Critério:  \n",
        "Escreva essa transformação em apenas uma query. Boa sorte!\n",
        "\n",
        "resultado esperado:  \n",
        "\n",
        "|LastName|ano_de_nascimento|idade\n",
        "|--------:|----------------:|-----\n",
        "|Adams   |1962             |   60\n",
        "|Edwards |1958             |   64\n",
        "|Peacock |1973             |   49\n",
        "|Park    |1947             |   75\n",
        "|Johnson |1965             |   57\n",
        "|Mitchell|1973             |   49\n",
        "|King    |1970             |   52\n",
        "|Callahan|1968             |   54\n",
        "\n",
        "Na célula onde se encontra o `%%sql`, escreva sua query, sem deletar o comando. Exemplo:  \n",
        "```python\n",
        "%%sql\n",
        "select * from Customer\n",
        "```\n",
        "\n",
        "Para resolução utilize a documentação do sqlite:https://www.sqlite.org/docs.html"
      ]
    },
    {
      "cell_type": "code",
      "execution_count": 2,
      "id": "2b36ffcd-323a-452a-a6a1-433be0285405",
      "metadata": {
        "id": "2b36ffcd-323a-452a-a6a1-433be0285405",
        "outputId": "fd8b2c16-854a-4989-f004-f895983e0225",
        "colab": {
          "base_uri": "https://localhost:8080/",
          "height": 35
        }
      },
      "outputs": [
        {
          "output_type": "execute_result",
          "data": {
            "text/plain": [
              "'Connected: @//tmp/github/30-day-challenges-with-sql/challenges/utils/db/database.db'"
            ],
            "application/vnd.google.colaboratory.intrinsic+json": {
              "type": "string"
            }
          },
          "metadata": {},
          "execution_count": 2
        }
      ],
      "source": [
        "%load_ext sql\n",
        "%sql sqlite://///tmp/github/30-day-challenges-with-sql/challenges/utils/db/database.db"
      ]
    },
    {
      "cell_type": "code",
      "execution_count": 3,
      "id": "275157e9",
      "metadata": {
        "id": "275157e9",
        "outputId": "a5afac43-e7f3-44cc-b59d-938f75fcc8da",
        "colab": {
          "base_uri": "https://localhost:8080/",
          "height": 246
        }
      },
      "outputs": [
        {
          "output_type": "stream",
          "name": "stdout",
          "text": [
            " * sqlite://///tmp/github/30-day-challenges-with-sql/challenges/utils/db/database.db\n",
            "Done.\n"
          ]
        },
        {
          "output_type": "execute_result",
          "data": {
            "text/plain": [
              "[('Adams', '1962', 60),\n",
              " ('Edwards', '1958', 64),\n",
              " ('Peacock', '1973', 49),\n",
              " ('Park', '1947', 75),\n",
              " ('Johnson', '1965', 57),\n",
              " ('Mitchell', '1973', 49),\n",
              " ('King', '1970', 52),\n",
              " ('Callahan', '1968', 54)]"
            ],
            "text/html": [
              "<table>\n",
              "    <thead>\n",
              "        <tr>\n",
              "            <th>LastName</th>\n",
              "            <th>ano_de_nascimento</th>\n",
              "            <th>idade</th>\n",
              "        </tr>\n",
              "    </thead>\n",
              "    <tbody>\n",
              "        <tr>\n",
              "            <td>Adams</td>\n",
              "            <td>1962</td>\n",
              "            <td>60</td>\n",
              "        </tr>\n",
              "        <tr>\n",
              "            <td>Edwards</td>\n",
              "            <td>1958</td>\n",
              "            <td>64</td>\n",
              "        </tr>\n",
              "        <tr>\n",
              "            <td>Peacock</td>\n",
              "            <td>1973</td>\n",
              "            <td>49</td>\n",
              "        </tr>\n",
              "        <tr>\n",
              "            <td>Park</td>\n",
              "            <td>1947</td>\n",
              "            <td>75</td>\n",
              "        </tr>\n",
              "        <tr>\n",
              "            <td>Johnson</td>\n",
              "            <td>1965</td>\n",
              "            <td>57</td>\n",
              "        </tr>\n",
              "        <tr>\n",
              "            <td>Mitchell</td>\n",
              "            <td>1973</td>\n",
              "            <td>49</td>\n",
              "        </tr>\n",
              "        <tr>\n",
              "            <td>King</td>\n",
              "            <td>1970</td>\n",
              "            <td>52</td>\n",
              "        </tr>\n",
              "        <tr>\n",
              "            <td>Callahan</td>\n",
              "            <td>1968</td>\n",
              "            <td>54</td>\n",
              "        </tr>\n",
              "    </tbody>\n",
              "</table>"
            ]
          },
          "metadata": {},
          "execution_count": 3
        }
      ],
      "source": [
        "%%sql\n",
        "\n",
        "SELECT \n",
        "       LastName, \n",
        "       strftime('%Y',BirthDate) AS ano_de_nascimento,\n",
        "       (strftime('%Y', 'now')-strftime('%Y', BirthDate)) AS idade\n",
        "\n",
        "FROM Employee;\n"
      ]
    }
  ],
  "metadata": {
    "kernelspec": {
      "display_name": "Python 3 (ipykernel)",
      "language": "python",
      "name": "python3"
    },
    "language_info": {
      "codemirror_mode": {
        "name": "ipython",
        "version": 3
      },
      "file_extension": ".py",
      "mimetype": "text/x-python",
      "name": "python",
      "nbconvert_exporter": "python",
      "pygments_lexer": "ipython3",
      "version": "3.7.9"
    },
    "colab": {
      "name": "notebook_challenge_006_level1.ipynb",
      "provenance": []
    }
  },
  "nbformat": 4,
  "nbformat_minor": 5
}